{
 "cells": [
  {
   "cell_type": "code",
   "execution_count": null,
   "metadata": {},
   "outputs": [],
   "source": [
    "# Learning Pytorch\n",
    "# By writing a simple sentiment analyzer\n",
    "# Uses 1 hot encoding"
   ]
  },
  {
   "cell_type": "code",
   "execution_count": 27,
   "metadata": {},
   "outputs": [],
   "source": [
    "import os\n",
    "import sys, csv\n",
    "import torch\n",
    "import torchtext\n",
    "import pandas as pd\n",
    "from torchtext.datasets import text_classification\n",
    "from torchtext.utils import download_from_url, extract_archive"
   ]
  },
  {
   "cell_type": "code",
   "execution_count": 46,
   "metadata": {},
   "outputs": [],
   "source": [
    "# constants\n",
    "NGRAMS = 3\n",
    "Train_Data_Size = 10000\n",
    "Test_Data_Size = 1000"
   ]
  },
  {
   "cell_type": "code",
   "execution_count": 18,
   "metadata": {},
   "outputs": [],
   "source": [
    "# hard code or else, OverFlowError in csv.field_size_limit\n",
    "sys.maxsize = 2**16 - 1"
   ]
  },
  {
   "cell_type": "code",
   "execution_count": 22,
   "metadata": {},
   "outputs": [],
   "source": [
    "# Source : https://pytorch.org/text/_modules/torchtext/datasets/text_classification.html\n",
    "URLS = {\n",
    "    'AmazonReviewPolarity':\n",
    "        'https://drive.google.com/uc?export=download&id=0Bz8a_Dbh9QhbaW12WVVZS2drcnM'\n",
    "}"
   ]
  },
  {
   "cell_type": "code",
   "execution_count": 25,
   "metadata": {},
   "outputs": [],
   "source": [
    "# File sizes are too big, will use a chunk of it, train : 10000 rows, test 1000 rows\n",
    "tar_data = download_from_url(URLS['AmazonReviewPolarity'])\n",
    "extracted_files = extract_archive(tar_data)"
   ]
  },
  {
   "cell_type": "code",
   "execution_count": 28,
   "metadata": {},
   "outputs": [
    {
     "data": {
      "text/plain": [
       "['.data\\\\amazon_review_polarity_csv/test.csv',\n",
       " '.data\\\\amazon_review_polarity_csv/train.csv',\n",
       " '.data\\\\amazon_review_polarity_csv/readme.txt']"
      ]
     },
     "execution_count": 28,
     "metadata": {},
     "output_type": "execute_result"
    }
   ],
   "source": [
    "extracted_files"
   ]
  },
  {
   "cell_type": "code",
   "execution_count": 47,
   "metadata": {},
   "outputs": [],
   "source": [
    "train_data = pd.read_csv('.data\\\\amazon_review_polarity_csv/train.csv', chunksize=1000).get_chunk(Train_Data_Size)\n",
    "test_data = pd.read_csv('.data\\\\amazon_review_polarity_csv/test.csv', chunksize=1000).get_chunk(Test_Data_Size)"
   ]
  },
  {
   "cell_type": "code",
   "execution_count": 53,
   "metadata": {},
   "outputs": [],
   "source": [
    "# Rename Columns\n",
    "train_data.set_axis(['Sentiment', 'Title', 'Review'], axis=1, inplace=True)\n",
    "test_data.set_axis(['Sentiment', 'Title', 'Review'], axis=1, inplace=True)"
   ]
  }
 ],
 "metadata": {
  "kernelspec": {
   "display_name": "Python 3",
   "language": "python",
   "name": "python3"
  },
  "language_info": {
   "codemirror_mode": {
    "name": "ipython",
    "version": 3
   },
   "file_extension": ".py",
   "mimetype": "text/x-python",
   "name": "python",
   "nbconvert_exporter": "python",
   "pygments_lexer": "ipython3",
   "version": "3.7.4"
  }
 },
 "nbformat": 4,
 "nbformat_minor": 2
}
